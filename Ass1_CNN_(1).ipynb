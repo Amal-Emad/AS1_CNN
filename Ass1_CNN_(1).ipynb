{
  "cells": [
    {
      "cell_type": "markdown",
      "metadata": {
        "id": "view-in-github",
        "colab_type": "text"
      },
      "source": [
        "<a href=\"https://colab.research.google.com/github/Amal-Emad/AS1_CNN/blob/main/Ass1_CNN_(1).ipynb\" target=\"_parent\"><img src=\"https://colab.research.google.com/assets/colab-badge.svg\" alt=\"Open In Colab\"/></a>"
      ]
    },
    {
      "cell_type": "markdown",
      "metadata": {
        "id": "si6cLhP42iU6"
      },
      "source": [
        "# Convolutional Neural Network (CNN)"
      ]
    },
    {
      "cell_type": "markdown",
      "metadata": {
        "id": "M7c5MFuE2iU9"
      },
      "source": [
        "In this assignment, You will build and train a convolutional neural network (CNN) for image classification. The CIFAR-10 dataset will be used to train a CNN model from scratch and using the Xception pre-trained model. Comparing the results of the two models.\n",
        "Tasks:\n",
        "* Import a dataset\n",
        "* Dataset pre-processing\n",
        "* Building and Training a model from scratch\n",
        "* Using a pre-trained model\n",
        "* Comparing the models"
      ]
    },
    {
      "cell_type": "code",
      "execution_count": 4,
      "metadata": {
        "id": "yqEHTkg7xv1c"
      },
      "outputs": [],
      "source": [
        "# import some libraries\n",
        "import numpy as np\n",
        "import tensorflow as tf\n",
        "from sklearn.model_selection import train_test_split\n",
        "import matplotlib.pyplot as plt\n",
        "import os"
      ]
    },
    {
      "cell_type": "markdown",
      "metadata": {
        "id": "vVAclqsq2iU_"
      },
      "source": [
        "## Import the Dataset\n",
        "The CIFAR-10 dataset consists of 60000 32x32 colour images in 10 classes, with 6000 images per class. Classes include *Airplane*, Automobile, Bird, Cat, Deer, Dog, Frog, Horse, Ship, Truck.<br>"
      ]
    },
    {
      "cell_type": "code",
      "execution_count": 5,
      "metadata": {
        "colab": {
          "base_uri": "https://localhost:8080/"
        },
        "id": "JnTmYxnF2iVG",
        "outputId": "7b891aa4-d9db-4b29-e589-aa219cf3bdf2"
      },
      "outputs": [
        {
          "output_type": "stream",
          "name": "stdout",
          "text": [
            "Downloading data from https://www.cs.toronto.edu/~kriz/cifar-10-python.tar.gz\n",
            "170498071/170498071 [==============================] - 9s 0us/step\n",
            "Train Image Shape: (50000, 32, 32, 3)\n",
            "Train Label Shape: (50000, 1)\n",
            "Test Image Shape: (10000, 32, 32, 3)\n",
            "Test Label Shape: (10000, 1)\n"
          ]
        }
      ],
      "source": [
        "# load the dataset\n",
        "num_classes = 10\n",
        "new_im_size = 32\n",
        "channels = 3\n",
        "cifar10 = tf.keras.datasets.cifar10\n",
        "# TODO: load the dataset\n",
        "cifar10 = tf.keras.datasets.cifar10\n",
        "(train_images, train_labels), (test_images, test_labels) = cifar10.load_data()\n",
        "# TODO: print the target image values.\n",
        "print(f\"Train Image Shape: {train_images.shape}\")\n",
        "print(f\"Train Label Shape: {train_labels.shape}\")\n",
        "print(f\"Test Image Shape: {test_images.shape}\")\n",
        "print(f\"Test Label Shape: {test_labels.shape}\")"
      ]
    },
    {
      "cell_type": "markdown",
      "metadata": {
        "id": "916Qmf_V2iVM"
      },
      "source": [
        "## Dataset pre-processing\n",
        "As pre-processing steps we apply\n",
        "\n",
        "* Normalization in [0 1], to speed up learning and have faster convergence\n",
        "* Splitting the training dataset into training and validation subsets(needed for an appropriate learning pipeline) and label preprocessing (one-hot encoding)\n",
        "* Standardization, to obtain a distribution with mean equal to 0 and a standard deviation equal to 1."
      ]
    },
    {
      "cell_type": "code",
      "execution_count": 6,
      "metadata": {
        "id": "c1ar8l3i2iVU"
      },
      "outputs": [],
      "source": [
        "# TODO: Normalize the data in [0 1]\n",
        "train_images = train_images / 255.0\n",
        "test_images = test_images / 255.0"
      ]
    },
    {
      "cell_type": "code",
      "execution_count": 7,
      "metadata": {
        "id": "gx4Pz2Z5yH2q"
      },
      "outputs": [],
      "source": [
        "# TODO: Split the training dataset into training and validation subsets, the validation size is 25%.\n",
        "from sklearn.model_selection import train_test_split\n",
        "\n",
        "train_images, val_images, train_labels, val_labels = train_test_split(train_images, train_labels, test_size=0.25, random_state=42)\n",
        "\n"
      ]
    },
    {
      "cell_type": "code",
      "execution_count": 8,
      "metadata": {
        "colab": {
          "base_uri": "https://localhost:8080/"
        },
        "id": "QdeRE2XsyIo7",
        "outputId": "3fc85d92-1fe5-4194-8479-571327d5c815"
      },
      "outputs": [
        {
          "output_type": "stream",
          "name": "stdout",
          "text": [
            "Size of Training Subset: 37500\n",
            "Size of Validation Subset: 12500\n",
            "Size of Test Subset: 10000\n"
          ]
        }
      ],
      "source": [
        "# Standardizing the data\n",
        "def standardize_dataset(X):\n",
        "    image_means = []\n",
        "    image_stds = []\n",
        "\n",
        "    for image in X:\n",
        "        image_means.append(np.mean(image)) # Computing the image mean\n",
        "        image_stds.append(np.std(image)) # Computing the image standard deviation\n",
        "\n",
        "    dataset_mean = np.mean(image_means) # Computing the dataset mean\n",
        "    dataset_std = np.mean(image_stds) # Computing the dataset standard deviation\n",
        "    return [dataset_mean, dataset_std] # For every image we subtract to it the dataset mean and we divide by the dataset standard deviation\n",
        "\n",
        "# TODO: Standardize the datasets using the above declared method.\n",
        "dataset_mean, dataset_std = standardize_dataset(train_images)\n",
        "train_images = (train_images - dataset_mean) / dataset_std\n",
        "val_images = (val_images - dataset_mean) / dataset_std\n",
        "test_images = (test_images - dataset_mean) / dataset_std\n",
        "# One hot encoding: A one hot encoding is a representation of categorical variables as binary vectors.\n",
        "# It allow the model to process and learn from this information and improve the resulting accuracy\n",
        "# TODO: Apply one hot encoder for the target values\n",
        "# use the following method tf.keras.utils.to_categorical\n",
        "train_labels = tf.keras.utils.to_categorical(train_labels, num_classes)\n",
        "val_labels = tf.keras.utils.to_categorical(val_labels, num_classes)\n",
        "test_labels = tf.keras.utils.to_categorical(test_labels, num_classes)\n",
        "\n",
        "# TODO: print the size of training, validation, and test subsets\n",
        "\n",
        "print(f\"Size of Training Subset: {len(train_images)}\")\n",
        "print(f\"Size of Validation Subset: {len(val_images)}\")\n",
        "print(f\"Size of Test Subset: {len(test_images)}\")"
      ]
    },
    {
      "cell_type": "markdown",
      "metadata": {
        "id": "dLIf2fS62iVn"
      },
      "source": [
        "## Building and Training a model from scratch\n",
        "Now that we have properly pre-processed our data, we are going to create a convolutional model in Keras.\n",
        "Usually a convolutional model is made by two subsequent part:\n",
        "* A convolution part\n",
        "* A fully connected\n",
        "\n",
        "Usually the convolution part is made by some layers as Convolution layer, ReLU activation function layer, MaxPooling layer, and dropout layer.\n",
        "\n",
        "The convolution part produces its output and the fully connected part ties together the received information in order to solve the classification problem."
      ]
    },
    {
      "cell_type": "code",
      "execution_count": 9,
      "metadata": {
        "id": "2SQ6lArz2iVo"
      },
      "outputs": [],
      "source": [
        "# Creating the model from scratch\n",
        "import tensorflow.keras\n",
        "from tensorflow.keras import Sequential,Input,Model\n",
        "from tensorflow.keras.layers import Dense, Dropout, Flatten\n",
        "from tensorflow.keras.layers import Conv2D, MaxPooling2D\n",
        "from tensorflow.keras.layers import BatchNormalization\n",
        "from tensorflow.keras.layers import ReLU\n",
        "from sklearn.metrics import accuracy_score\n",
        "\n",
        "# TODO: Build here your model.\n",
        "model = Sequential()\n",
        "# TODO: Try to use one convolution layer, with 128 kernels of size 3x3, joint with ReLU, MaxPooling, and Dropout layers\n",
        "model.add(Conv2D(128, (3, 3), activation='relu', input_shape=(new_im_size, new_im_size, channels)))\n",
        "model.add(MaxPooling2D(pool_size=(2, 2)))\n",
        "model.add(Dropout(0.25))\n",
        "\n",
        "# TODO: ADD FURTHER CONV LAYERS HERE LATER\n",
        "model.add(Conv2D(32, (3, 3), activation='relu'))\n",
        "model.add(MaxPooling2D(pool_size=(2, 2)))\n",
        "model.add(Dropout(0.25))\n",
        "\n",
        "model.add(Flatten())\n",
        "# TODO: Add the fully connected (dense) final part: Flatten + Dense with 32 neurons (<-- CHANGE THIS!!) and relu + Dropout 25% + Dense with 10 neurons and softmax\n",
        "model.add(Dense(32, activation='relu'))\n",
        "model.add(Dropout(0.25))\n",
        "model.add(Dense(num_classes, activation='softmax'))\n"
      ]
    },
    {
      "cell_type": "code",
      "execution_count": 10,
      "metadata": {
        "colab": {
          "base_uri": "https://localhost:8080/"
        },
        "id": "azjgug3Q2iVs",
        "outputId": "553f5727-2506-4b2b-e071-7d1e59f65b75"
      },
      "outputs": [
        {
          "output_type": "stream",
          "name": "stdout",
          "text": [
            "Epoch 1/20\n",
            "586/586 [==============================] - 17s 11ms/step - loss: 1.7819 - accuracy: 0.3498 - val_loss: 1.3926 - val_accuracy: 0.4966\n",
            "Epoch 2/20\n",
            "586/586 [==============================] - 5s 9ms/step - loss: 1.4759 - accuracy: 0.4643 - val_loss: 1.2681 - val_accuracy: 0.5501\n",
            "Epoch 3/20\n",
            "586/586 [==============================] - 5s 9ms/step - loss: 1.3434 - accuracy: 0.5148 - val_loss: 1.1752 - val_accuracy: 0.5822\n",
            "Epoch 4/20\n",
            "586/586 [==============================] - 5s 9ms/step - loss: 1.2547 - accuracy: 0.5522 - val_loss: 1.1008 - val_accuracy: 0.6149\n",
            "Epoch 5/20\n",
            "586/586 [==============================] - 5s 9ms/step - loss: 1.1953 - accuracy: 0.5745 - val_loss: 1.0355 - val_accuracy: 0.6364\n",
            "Epoch 6/20\n",
            "586/586 [==============================] - 5s 9ms/step - loss: 1.1446 - accuracy: 0.5987 - val_loss: 0.9951 - val_accuracy: 0.6571\n",
            "Epoch 7/20\n",
            "586/586 [==============================] - 5s 9ms/step - loss: 1.1100 - accuracy: 0.6074 - val_loss: 0.9618 - val_accuracy: 0.6590\n",
            "Epoch 8/20\n",
            "586/586 [==============================] - 5s 9ms/step - loss: 1.0851 - accuracy: 0.6187 - val_loss: 0.9493 - val_accuracy: 0.6650\n",
            "Epoch 9/20\n",
            "586/586 [==============================] - 5s 8ms/step - loss: 1.0633 - accuracy: 0.6255 - val_loss: 0.9639 - val_accuracy: 0.6613\n",
            "Epoch 10/20\n",
            "586/586 [==============================] - 5s 9ms/step - loss: 1.0397 - accuracy: 0.6311 - val_loss: 0.9527 - val_accuracy: 0.6713\n",
            "Epoch 11/20\n",
            "586/586 [==============================] - 5s 9ms/step - loss: 1.0182 - accuracy: 0.6387 - val_loss: 0.9078 - val_accuracy: 0.6830\n",
            "Epoch 12/20\n",
            "586/586 [==============================] - 5s 9ms/step - loss: 1.0006 - accuracy: 0.6475 - val_loss: 0.8846 - val_accuracy: 0.6890\n",
            "Epoch 13/20\n",
            "586/586 [==============================] - 5s 9ms/step - loss: 0.9890 - accuracy: 0.6522 - val_loss: 0.9022 - val_accuracy: 0.6758\n",
            "Epoch 14/20\n",
            "586/586 [==============================] - 5s 8ms/step - loss: 0.9828 - accuracy: 0.6552 - val_loss: 0.8819 - val_accuracy: 0.6891\n",
            "Epoch 15/20\n",
            "586/586 [==============================] - 6s 10ms/step - loss: 0.9669 - accuracy: 0.6570 - val_loss: 0.8814 - val_accuracy: 0.6932\n",
            "Epoch 16/20\n",
            "586/586 [==============================] - 5s 9ms/step - loss: 0.9582 - accuracy: 0.6602 - val_loss: 0.8779 - val_accuracy: 0.6965\n",
            "Epoch 17/20\n",
            "586/586 [==============================] - 5s 9ms/step - loss: 0.9468 - accuracy: 0.6661 - val_loss: 0.8467 - val_accuracy: 0.7038\n",
            "Epoch 18/20\n",
            "586/586 [==============================] - 5s 9ms/step - loss: 0.9357 - accuracy: 0.6692 - val_loss: 0.8634 - val_accuracy: 0.7028\n",
            "Epoch 19/20\n",
            "586/586 [==============================] - 5s 9ms/step - loss: 0.9307 - accuracy: 0.6730 - val_loss: 0.8691 - val_accuracy: 0.6995\n",
            "Epoch 20/20\n",
            "586/586 [==============================] - 5s 9ms/step - loss: 0.9187 - accuracy: 0.6745 - val_loss: 0.8430 - val_accuracy: 0.7070\n"
          ]
        }
      ],
      "source": [
        "# TODO: Compile the model with the Adam optimizer\n",
        "\n",
        "model.compile(optimizer='adam', loss='categorical_crossentropy', metrics=['accuracy'])\n",
        "\n",
        "# TODO: Train the model\n",
        "\n",
        "# Network parameters (Try different values)\n",
        "batch_size = 64 # Setting the batch size\n",
        "epochs = 20 # Setting the number of epochs\n",
        "scratch_history = model.fit(train_images, train_labels, batch_size=batch_size, epochs=epochs, validation_data=(val_images, val_labels))"
      ]
    },
    {
      "cell_type": "code",
      "execution_count": 11,
      "metadata": {
        "colab": {
          "base_uri": "https://localhost:8080/"
        },
        "id": "1R2yQaYBu3E_",
        "outputId": "7752baf6-bc7a-488a-e144-6a2694f82979"
      },
      "outputs": [
        {
          "output_type": "stream",
          "name": "stdout",
          "text": [
            "313/313 [==============================] - 1s 4ms/step - loss: 0.8397 - accuracy: 0.7104\n",
            "Test accuracy: 0.7103999853134155\n"
          ]
        }
      ],
      "source": [
        "# TODO: Evaluate and print the accuracy of the model on the test dataset\n",
        "test_loss, test_accuracy = model.evaluate(test_images, test_labels)\n",
        "print(f\"Test accuracy: {test_accuracy}\")"
      ]
    },
    {
      "cell_type": "markdown",
      "metadata": {
        "id": "BeXA6F6UmZsW"
      },
      "source": [
        "### Try to make the network deeper, adding more Conv and Pooling layers. Does the performance improve?"
      ]
    },
    {
      "cell_type": "markdown",
      "metadata": {
        "id": "s3_XbZQg2iWQ"
      },
      "source": [
        "## Using a pre-trained model\n",
        "A common alternative to train a model from scratch consists in using a pre-trained model.<br>\n",
        "The idea is to replace the convolution part with a highly optimized convolutional part engineered and trained previously by someone else.<br> Usually the models that we can use through keras.applications have been trained over the ImageNet dataset. <br>\n",
        "You are going to use the Xception Net model."
      ]
    },
    {
      "cell_type": "code",
      "execution_count": 12,
      "metadata": {
        "id": "nc8dz23k2iWR",
        "colab": {
          "base_uri": "https://localhost:8080/"
        },
        "outputId": "d986a493-3405-4b99-80a6-4929a91a72dd"
      },
      "outputs": [
        {
          "output_type": "stream",
          "name": "stdout",
          "text": [
            "Downloading data from https://storage.googleapis.com/tensorflow/keras-applications/xception/xception_weights_tf_dim_ordering_tf_kernels_notop.h5\n",
            "83683744/83683744 [==============================] - 0s 0us/step\n"
          ]
        }
      ],
      "source": [
        "# Creating the model based over the pretrained Xception network\n",
        "from tensorflow.keras import applications\n",
        "import tensorflow\n",
        "from tensorflow.keras import models\n",
        "from tensorflow.keras import layers\n",
        "from tensorflow.keras import optimizers\n",
        "model = models.Sequential()\n",
        "\n",
        "model.add(tensorflow.keras.layers.UpSampling2D(size=(7,7),input_shape=(32,32,3)))\n",
        "\n",
        "Xception_model = applications.Xception(weights = \"imagenet\", include_top=False, input_shape = (224, 224, channels))\n",
        "\n",
        "for layer in Xception_model.layers:\n",
        "    layer.trainable = False\n",
        "\n",
        "Inputs = layers.Input(shape=(32,32,3))\n",
        "x = model(Inputs)\n",
        "x = Xception_model(x)\n",
        "# TODO: Add Flatten layer + Dense with 128 neurons and relu + Dense with 10 neurons and softmax\n",
        "x = layers.Flatten()(x)\n",
        "x = layers.Dense(128, activation='relu')(x)\n",
        "predictions = layers.Dense(10, activation='softmax')(x)  #  10 output classes\n",
        "\n",
        "# Define the final model by specifying the input and output layers\n",
        "model = models.Model(inputs=Inputs, outputs=predictions)"
      ]
    },
    {
      "cell_type": "code",
      "execution_count": 14,
      "metadata": {
        "colab": {
          "base_uri": "https://localhost:8080/"
        },
        "id": "kyHEx6bS2iWU",
        "outputId": "800b1d31-75a8-400f-eaae-faba199354b2"
      },
      "outputs": [
        {
          "output_type": "stream",
          "name": "stdout",
          "text": [
            "Epoch 1/5\n",
            "1172/1172 [==============================] - 240s 202ms/step - loss: 0.6224 - accuracy: 0.7894 - val_loss: 0.7573 - val_accuracy: 0.7456\n",
            "Epoch 2/5\n",
            "1172/1172 [==============================] - 237s 202ms/step - loss: 0.4495 - accuracy: 0.8461 - val_loss: 0.6581 - val_accuracy: 0.7928\n",
            "Epoch 3/5\n",
            "1172/1172 [==============================] - 205s 175ms/step - loss: 0.3581 - accuracy: 0.8755 - val_loss: 0.7612 - val_accuracy: 0.7737\n",
            "Epoch 4/5\n",
            "1172/1172 [==============================] - 210s 179ms/step - loss: 0.2831 - accuracy: 0.9019 - val_loss: 0.8063 - val_accuracy: 0.7776\n",
            "Epoch 5/5\n",
            "1172/1172 [==============================] - 241s 206ms/step - loss: 0.2285 - accuracy: 0.9206 - val_loss: 0.8701 - val_accuracy: 0.7850\n",
            "313/313 [==============================] - 40s 127ms/step - loss: 0.8761 - accuracy: 0.7795\n",
            "Test accuracy: 0.7795000076293945\n"
          ]
        }
      ],
      "source": [
        "from tensorflow.keras import optimizers\n",
        "\n",
        "# Compile the model with the Adam optimizer\n",
        "model.compile(optimizer=optimizers.Adam(), loss='categorical_crossentropy', metrics=['accuracy'])\n",
        "\n",
        "# Train the model\n",
        "history = model.fit(train_images, train_labels, epochs=5, validation_data=(val_images, val_labels))\n",
        "\n",
        "# Evaluate the model on the test dataset\n",
        "test_loss, test_accuracy = model.evaluate(test_images, test_labels)\n",
        "\n",
        "# Print the accuracy of the model on the test dataset\n",
        "print(f\"Test accuracy: {test_accuracy}\")"
      ]
    },
    {
      "cell_type": "code",
      "execution_count": 15,
      "metadata": {
        "id": "E5ZpJpC13uTL",
        "colab": {
          "base_uri": "https://localhost:8080/"
        },
        "outputId": "17f66403-6f1c-4e19-ca7c-6d39dca827e7"
      },
      "outputs": [
        {
          "output_type": "stream",
          "name": "stdout",
          "text": [
            "1/1 [==============================] - 1s 1s/step\n",
            "Predicted labels for the first 10 test images:\n",
            "Image 1: Predicted Label - 3\n",
            "Image 2: Predicted Label - 8\n",
            "Image 3: Predicted Label - 8\n",
            "Image 4: Predicted Label - 0\n",
            "Image 5: Predicted Label - 6\n",
            "Image 6: Predicted Label - 6\n",
            "Image 7: Predicted Label - 1\n",
            "Image 8: Predicted Label - 6\n",
            "Image 9: Predicted Label - 3\n",
            "Image 10: Predicted Label - 1\n"
          ]
        }
      ],
      "source": [
        "# TODO: With the model trained, predict some images\n",
        "num_images_to_predict = 10\n",
        "predictions = model.predict(test_images[:num_images_to_predict])\n",
        "predicted_labels = np.argmax(predictions, axis=1)\n",
        "print(f\"Predicted labels for the first {num_images_to_predict} test images:\")\n",
        "for i in range(num_images_to_predict):\n",
        "    print(f\"Image {i + 1}: Predicted Label - {predicted_labels[i]}\")"
      ]
    },
    {
      "cell_type": "markdown",
      "metadata": {
        "id": "o_2_LXsy2iWg"
      },
      "source": [
        "## Comparing the models\n",
        "\n",
        "Compare the obtained results during training for both the \"from scratch\" and the \"pre-trained\" models, consider accuracy and loss.<br> **What information can you get from these plots?**<br>"
      ]
    },
    {
      "cell_type": "code",
      "execution_count": 18,
      "metadata": {
        "id": "vovtvdUg2iWh",
        "scrolled": true,
        "colab": {
          "base_uri": "https://localhost:8080/",
          "height": 427
        },
        "outputId": "b8ce833c-a5b3-4e65-9e5f-ccdedc054ed6"
      },
      "outputs": [
        {
          "output_type": "display_data",
          "data": {
            "text/plain": [
              "<Figure size 1200x400 with 2 Axes>"
            ],
            "image/png": "[encoded data removed]"
          },
          "metadata": {}
        }
      ],
      "source": [
        "# TODO: Create here the plots to compare the \"from scratch\" model and the \"pretrained\" model\n",
        "# TODO: Produce a comparison plot about the accuracies (train and validation) and another plot for the losses\n",
        "\n",
        "import matplotlib.pyplot as plt\n",
        "\n",
        "# 'from scratch' model history (assuming you have this history from training)\n",
        "scratch_acc = scratch_history.history['accuracy']\n",
        "scratch_val_acc = scratch_history.history['val_accuracy']\n",
        "scratch_loss = scratch_history.history['loss']\n",
        "scratch_val_loss = scratch_history.history['val_loss']\n",
        "\n",
        "# 'pretrained' model history (assuming you have this history from training)\n",
        "pretrained_acc = history.history['accuracy']\n",
        "pretrained_val_acc = history.history['val_accuracy']\n",
        "pretrained_loss = history.history['loss']\n",
        "pretrained_val_loss = history.history['val_loss']\n",
        "\n",
        "# Plotting Accuracies\n",
        "plt.figure(figsize=(12, 4))\n",
        "\n",
        "plt.subplot(1, 2, 1)\n",
        "plt.plot(scratch_acc, label='From Scratch Training Accuracy')\n",
        "plt.plot(scratch_val_acc, label='From Scratch Validation Accuracy')\n",
        "plt.plot(pretrained_acc, label='Pretrained Model Training Accuracy')\n",
        "plt.plot(pretrained_val_acc, label='Pretrained Model Validation Accuracy')\n",
        "plt.title('Training and Validation Accuracy Comparison')\n",
        "plt.xlabel('Epochs')\n",
        "plt.ylabel('Accuracy')\n",
        "plt.legend()\n",
        "\n",
        "# Plotting Losses\n",
        "plt.subplot(1, 2, 2)\n",
        "plt.plot(scratch_loss, label='From Scratch Training Loss')\n",
        "plt.plot(scratch_val_loss, label='From Scratch Validation Loss')\n",
        "plt.plot(pretrained_loss, label='Pretrained Model Training Loss')\n",
        "plt.plot(pretrained_val_loss, label='Pretrained Model Validation Loss')\n",
        "plt.title('Training and Validation Loss Comparison')\n",
        "plt.xlabel('Epochs')\n",
        "plt.ylabel('Loss')\n",
        "plt.legend()\n",
        "\n",
        "plt.tight_layout()\n",
        "plt.show()\n"
      ]
    }
  ],
  "metadata": {
    "accelerator": "GPU",
    "colab": {
      "provenance": [],
      "toc_visible": true,
      "include_colab_link": true
    },
    "kernelspec": {
      "display_name": "Python 3 (ipykernel)",
      "language": "python",
      "name": "python3"
    },
    "language_info": {
      "codemirror_mode": {
        "name": "ipython",
        "version": 3
      },
      "file_extension": ".py",
      "mimetype": "text/x-python",
      "name": "python",
      "nbconvert_exporter": "python",
      "pygments_lexer": "ipython3",
      "version": "3.11.2"
    }
  },
  "nbformat": 4,
  "nbformat_minor": 0
}